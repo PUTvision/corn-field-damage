{
 "cells": [
  {
   "cell_type": "code",
   "execution_count": null,
   "id": "39a30745",
   "metadata": {},
   "outputs": [],
   "source": [
    "import os\n",
    "import sys\n",
    "import glob\n",
    "import json \n",
    "import pprint\n",
    "import matplotlib\n",
    "import copy\n",
    "import pickle\n",
    "\n",
    "from matplotlib import pyplot as plt\n",
    "import numpy as np\n",
    "import matplotlib as mpl\n"
   ]
  },
  {
   "cell_type": "code",
   "execution_count": null,
   "id": "0565197f",
   "metadata": {},
   "outputs": [],
   "source": []
  },
  {
   "cell_type": "code",
   "execution_count": null,
   "id": "3223568c",
   "metadata": {},
   "outputs": [],
   "source": [
    "mpl.rcParams['figure.dpi'] = 100\n"
   ]
  },
  {
   "cell_type": "code",
   "execution_count": null,
   "id": "5197ef51",
   "metadata": {},
   "outputs": [],
   "source": []
  },
  {
   "cell_type": "code",
   "execution_count": null,
   "id": "cf8ac033",
   "metadata": {},
   "outputs": [],
   "source": []
  },
  {
   "cell_type": "code",
   "execution_count": null,
   "id": "fe75061e",
   "metadata": {},
   "outputs": [],
   "source": [
    "MODEL_TRAINING_OUTPUT_BASE_DIR = '/media/data/local/corn/out/from_drive/'\n",
    "\n",
    "\n",
    "def get_dir_path_for_model(model_name):\n",
    "    return os.path.join(MODEL_TRAINING_OUTPUT_BASE_DIR, 'model_' + model_name)"
   ]
  },
  {
   "cell_type": "markdown",
   "id": "dc21b63d",
   "metadata": {},
   "source": [
    "# Load data"
   ]
  },
  {
   "cell_type": "code",
   "execution_count": null,
   "id": "c32ecb33",
   "metadata": {},
   "outputs": [],
   "source": [
    "dir_names = [name for name in os.listdir(MODEL_TRAINING_OUTPUT_BASE_DIR) if os.path.isdir(os.path.join(MODEL_TRAINING_OUTPUT_BASE_DIR, name))]\n",
    "results = {}\n",
    "\n",
    "\n",
    "for dir_name in dir_names:\n",
    "    if not dir_name.startswith('model_'):\n",
    "        print(f'Skipping directory {dir_name}')\n",
    "        continue\n",
    "    \n",
    "    dir_path = os.path.join(MODEL_TRAINING_OUTPUT_BASE_DIR, dir_name)\n",
    "    model_result_files = glob.glob(os.path.join(dir_path, 'model_*_result.json'))\n",
    "    if len(model_result_files) != 1:\n",
    "        print(f'Invalid directory results in {dir_name}')\n",
    "        continue\n",
    "        \n",
    "    model_result_file_path = model_result_files[0]\n",
    "    \n",
    "    def remove_prefix(text, prefix):\n",
    "        return text[text.startswith(prefix) and len(prefix):]\n",
    "\n",
    "    model_name = remove_prefix(dir_name, 'model_')\n",
    "    with open(model_result_file_path, 'rt') as file:\n",
    "        results[model_name] = json.load(file)\n",
    "        "
   ]
  },
  {
   "cell_type": "code",
   "execution_count": null,
   "id": "c51cf4aa",
   "metadata": {},
   "outputs": [],
   "source": []
  },
  {
   "cell_type": "code",
   "execution_count": null,
   "id": "d9e4a8d0",
   "metadata": {},
   "outputs": [],
   "source": [
    "results[next(iter(results))].keys()"
   ]
  },
  {
   "cell_type": "code",
   "execution_count": null,
   "id": "6cf9fcb5",
   "metadata": {},
   "outputs": [],
   "source": []
  },
  {
   "cell_type": "code",
   "execution_count": null,
   "id": "71ecba79",
   "metadata": {},
   "outputs": [],
   "source": []
  },
  {
   "cell_type": "markdown",
   "id": "2d534999",
   "metadata": {},
   "source": [
    "# Parse results to metrics"
   ]
  },
  {
   "cell_type": "code",
   "execution_count": null,
   "id": "dff1f74f",
   "metadata": {},
   "outputs": [],
   "source": [
    "test_results_metrics = {\n",
    "    'fscore': {},\n",
    "    'iou_score': {},\n",
    "#     'IoU_Class0': {},\n",
    "    'IoU_Class1': {},\n",
    "#     'IoU_Class2': {},\n",
    "    'accuracy': {},\n",
    "    'dice_loss': {},\n",
    "}\n",
    "\n",
    "valid_progresses = {}\n",
    "\n",
    "for model_name, result in results.items():    \n",
    "    for metric_name in test_results_metrics.keys():\n",
    "        test_results_metrics[metric_name][model_name] = result['test_log'][metric_name]\n",
    "    \n",
    "    valid_logs = result['valid_logs_vec']\n",
    "    valid_progresses[model_name] = [log['dice_loss'] for log in valid_logs]\n",
    "    \n",
    "    \n"
   ]
  },
  {
   "cell_type": "code",
   "execution_count": null,
   "id": "d5e9d252",
   "metadata": {},
   "outputs": [],
   "source": []
  },
  {
   "cell_type": "markdown",
   "id": "7b7e6c4f",
   "metadata": {
    "scrolled": false
   },
   "source": [
    "# Printing/Plotting utils"
   ]
  },
  {
   "cell_type": "code",
   "execution_count": null,
   "id": "a5019833",
   "metadata": {},
   "outputs": [],
   "source": [
    "def plot_metrics_for_models(models_to_plot=None):\n",
    "    metrics_limited = test_results_metrics\n",
    "    if models_to_plot is not None:\n",
    "        metrics_limited = copy.deepcopy(test_results_metrics)\n",
    "        for metric_name, metric_data in test_results_metrics.items():\n",
    "            for model_name in metric_data.keys():\n",
    "                if model_name not in models_to_plot:\n",
    "                    del metrics_limited[metric_name][model_name]\n",
    "        \n",
    "    for metric_name in metrics_limited.keys():            \n",
    "        data_dict = metrics_limited[metric_name]\n",
    "        data_dict = dict(sorted(data_dict.items(), key=lambda item: item[1], reverse=True))\n",
    "        keys = data_dict.keys()\n",
    "        values = data_dict.values()\n",
    "        plt.bar(keys, values)\n",
    "        plt.xticks(rotation='vertical')\n",
    "        plt.ylim([min(data_dict.values())-0.1, max(data_dict.values())+0.1])\n",
    "        plt.title(metric_name)\n",
    "        plt.grid()\n",
    "        plt.show()\n",
    "        \n",
    "        \n",
    "def print_metrics_for_models(models_to_print=None, metrics_to_print=None):   \n",
    "    if metrics_to_print is None:\n",
    "        metrics_to_print = list(test_results_metrics.keys())\n",
    "    if models_to_print is None:\n",
    "        models_to_print = list(test_results_metrics[metrics_to_print[0]].keys())\n",
    "    \n",
    "    \n",
    "    table_txt = '\\ntile size / metric \\t' + '\\t'.join(metrics_to_print) + '\\n'\n",
    "    for model_name in models_to_print:\n",
    "        table_txt += f'{model_name}\\t'\n",
    "        for metric_name in metrics_to_print:\n",
    "            value = test_results_metrics[metric_name][model_name]\n",
    "            print(f'{metric_name} for {model_name} = {value:.3f}')\n",
    "            table_txt += f'{value:.3f}\\t'\n",
    "        table_txt += '\\n\\n'\n",
    "        \n",
    "    print(table_txt)\n",
    "\n",
    "    "
   ]
  },
  {
   "cell_type": "code",
   "execution_count": null,
   "id": "9a47e6d5",
   "metadata": {},
   "outputs": [],
   "source": []
  },
  {
   "cell_type": "code",
   "execution_count": null,
   "id": "ca0613f1",
   "metadata": {},
   "outputs": [],
   "source": []
  },
  {
   "cell_type": "markdown",
   "id": "804748b9",
   "metadata": {},
   "source": [
    "# Print/plot comparisson for tile size"
   ]
  },
  {
   "cell_type": "code",
   "execution_count": null,
   "id": "235fd238",
   "metadata": {},
   "outputs": [],
   "source": [
    "MODELS_TO_PRINT = [\n",
    "    'UNET_PLUS_PLUS__EFFICIENT_NET_B0__384px', \n",
    "    'UNET_PLUS_PLUS__EFFICIENT_NET_B0__1152px', \n",
    "    'UNET_PLUS_PLUS__EFFICIENT_NET_B0'\n",
    "]\n",
    "\n",
    "print_metrics_for_models(models_to_print=MODELS_TO_PRINT, metrics_to_print=['fscore', 'IoU_Class1', 'accuracy'])"
   ]
  },
  {
   "cell_type": "code",
   "execution_count": null,
   "id": "f0f84d5d",
   "metadata": {},
   "outputs": [],
   "source": [
    "fig = matplotlib.pyplot.gcf()\n",
    "fig.set_size_inches(10, 7)\n",
    "\n",
    "legends_raw = []\n",
    "for model_name, valid_vec in valid_progresses.items():\n",
    "    if model_name not in MODELS_TO_PRINT:\n",
    "        continue\n",
    "            \n",
    "    plt.plot(valid_vec[:27])\n",
    "    legends_raw.append(model_name)\n",
    "    \n",
    "    \n",
    "legend_map = {\n",
    "    'UNET_PLUS_PLUS__EFFICIENT_NET_B0__384px': 'Tile size 256 pixels (7.68 m)',\n",
    "    'UNET_PLUS_PLUS__EFFICIENT_NET_B0__1152px': 'Tile size 768 pixels (23.04 m)', \n",
    "    'UNET_PLUS_PLUS__EFFICIENT_NET_B0': 'Tile size 512 pixels (15.36 m)',\n",
    "}\n",
    "\n",
    "legends = list(map(legend_map.get, legends_raw))\n",
    "plt.title('Training progress on validation data (model UNET++)')\n",
    "plt.grid()\n",
    "plt.legend(legends)\n",
    "plt.xlabel('epoch number')\n",
    "plt.ylabel('dice loss')\n",
    "plt.show()"
   ]
  },
  {
   "cell_type": "code",
   "execution_count": null,
   "id": "14e21f15",
   "metadata": {},
   "outputs": [],
   "source": []
  },
  {
   "cell_type": "code",
   "execution_count": null,
   "id": "1b36c69c",
   "metadata": {},
   "outputs": [],
   "source": []
  },
  {
   "cell_type": "markdown",
   "id": "0c5f0714",
   "metadata": {},
   "source": [
    "# Print/plot comparisson for all models"
   ]
  },
  {
   "cell_type": "markdown",
   "id": "49a8fea1",
   "metadata": {},
   "source": [
    "## Print all metrics"
   ]
  },
  {
   "cell_type": "code",
   "execution_count": null,
   "id": "d9a32b6c",
   "metadata": {},
   "outputs": [],
   "source": [
    "list(test_results_metrics['fscore'].keys())"
   ]
  },
  {
   "cell_type": "code",
   "execution_count": null,
   "id": "3217600e",
   "metadata": {},
   "outputs": [],
   "source": [
    "test_results_metrics"
   ]
  },
  {
   "cell_type": "code",
   "execution_count": null,
   "id": "52330c46",
   "metadata": {},
   "outputs": [],
   "source": [
    "plot_metrics_for_models()"
   ]
  },
  {
   "cell_type": "code",
   "execution_count": null,
   "id": "75cef370",
   "metadata": {},
   "outputs": [],
   "source": []
  },
  {
   "cell_type": "code",
   "execution_count": null,
   "id": "b8cc1ea8",
   "metadata": {},
   "outputs": [],
   "source": []
  },
  {
   "cell_type": "code",
   "execution_count": null,
   "id": "26bfef56",
   "metadata": {},
   "outputs": [],
   "source": []
  },
  {
   "cell_type": "code",
   "execution_count": null,
   "id": "335f112e",
   "metadata": {},
   "outputs": [],
   "source": []
  },
  {
   "cell_type": "markdown",
   "id": "6461e953",
   "metadata": {},
   "source": [
    "# Print/plot for encoder comparison"
   ]
  },
  {
   "cell_type": "code",
   "execution_count": null,
   "id": "772e1703",
   "metadata": {
    "scrolled": false
   },
   "outputs": [],
   "source": [
    "MODELS_TO_PRINT = [\n",
    "    'UNET_PLUS_PLUS__EFFICIENT_NET_B0',\n",
    "    'UNET_PLUS_PLUS__EFFICIENT_NET_B1',\n",
    "    'UNET_PLUS_PLUS__EFFICIENT_NET_B2',\n",
    "    'UNET_PLUS_PLUS__EFFICIENT_NET_B3__big_lr_as_always',\n",
    "    'UNET_PLUS_PLUS__EFFICIENT_NET_B4',\n",
    "    'UNET_PLUS_PLUS__RESNET50_1',\n",
    "    # 'UNET_PLUS_PLUS__RESNET50', # same as above UNET_PLUS_PLUS__RESNET50_1\n",
    "    'UNET_PLUS_PLUS__RESNET18',\n",
    "]\n",
    "\n",
    "# plot_metrics_for_models(MODELS_TO_PRINT)\n",
    "print_metrics_for_models(models_to_print=MODELS_TO_PRINT, metrics_to_print=['fscore', 'IoU_Class1', 'accuracy'])"
   ]
  },
  {
   "cell_type": "code",
   "execution_count": null,
   "id": "019e165c",
   "metadata": {},
   "outputs": [],
   "source": [
    "fig = matplotlib.pyplot.gcf()\n",
    "fig.set_size_inches(10, 7)\n",
    "\n",
    "legends_raw = []\n",
    "for model_name, valid_vec in valid_progresses.items():\n",
    "    if model_name not in MODELS_TO_PRINT:\n",
    "        continue\n",
    "            \n",
    "    plt.plot(valid_vec[:])\n",
    "    legends_raw.append(model_name)\n",
    "    \n",
    "    \n",
    "\n",
    "plt.title('Training progress on validation data (model UNET++)')\n",
    "plt.grid()\n",
    "plt.legend(legends_raw)\n",
    "plt.xlabel('epoch number')\n",
    "plt.ylabel('dice loss')\n",
    "plt.show()"
   ]
  },
  {
   "cell_type": "code",
   "execution_count": null,
   "id": "221da7cd",
   "metadata": {},
   "outputs": [],
   "source": []
  },
  {
   "cell_type": "markdown",
   "id": "30c0a16f",
   "metadata": {},
   "source": [
    "# Print/plot models comparison"
   ]
  },
  {
   "cell_type": "code",
   "execution_count": null,
   "id": "c5e97c13",
   "metadata": {
    "scrolled": false
   },
   "outputs": [],
   "source": [
    "MODELS_TO_PRINT = [\n",
    " 'PAN',\n",
    " 'DEEP_LAB_V3_pc_seed_778',\n",
    " 'FPN',\n",
    " 'UNET_PLUS_PLUS__EFFICIENT_NET_B3__big_lr_as_always',\n",
    " 'DEEP_LAB_V3_PLUS',\n",
    "#  'DEEP_LAB_V3__default_seed_colab',\n",
    " 'UNET',\n",
    "#  'DEEP_LAB_V3__seed_776_colab',\n",
    " 'LINKNET',\n",
    "]\n",
    "\n",
    "plot_metrics_for_models(MODELS_TO_PRINT)\n",
    "print_metrics_for_models(models_to_print=MODELS_TO_PRINT, metrics_to_print=['fscore', 'IoU_Class1', 'accuracy'])"
   ]
  },
  {
   "cell_type": "code",
   "execution_count": null,
   "id": "e2d577ff",
   "metadata": {},
   "outputs": [],
   "source": []
  },
  {
   "cell_type": "code",
   "execution_count": null,
   "id": "9e26a1e1",
   "metadata": {},
   "outputs": [],
   "source": []
  },
  {
   "cell_type": "markdown",
   "id": "7e254a54",
   "metadata": {},
   "source": [
    "# Print/plot comparison for NDVI data "
   ]
  },
  {
   "cell_type": "code",
   "execution_count": null,
   "id": "fd281e41",
   "metadata": {
    "scrolled": true
   },
   "outputs": [],
   "source": [
    "MODELS_TO_PRINT = [\n",
    "#  'UNET_PLUS_PLUS__EFFICIENT_NET_B0_ndvi',\n",
    "#  'UNET_PLUS_PLUS__EFFICIENT_NET_B0_ndvi_file_but_rgb_only',\n",
    "#  'UNET_PLUS_PLUS__EFFICIENT_NET_B0_only_ndvi',\n",
    " 'UNET_PLUS_PLUS__EFFICIENT_NET_B3_only_ndvi',\n",
    " 'UNET_PLUS_PLUS__EFFICIENT_NET_B3_ndvi_but_only_rgb',\n",
    " 'UNET_PLUS_PLUS__EFFICIENT_NET_B3_ndvi2'\n",
    "]\n",
    "\n",
    "plot_metrics_for_models(MODELS_TO_PRINT)\n",
    "print_metrics_for_models(models_to_print=MODELS_TO_PRINT, metrics_to_print=['fscore', 'IoU_Class1', 'accuracy'])"
   ]
  },
  {
   "cell_type": "code",
   "execution_count": null,
   "id": "7369b0f3",
   "metadata": {},
   "outputs": [],
   "source": [
    "fig = matplotlib.pyplot.gcf()\n",
    "fig.set_size_inches(10, 7)\n",
    "\n",
    "legends_raw = []\n",
    "for model_name, valid_vec in valid_progresses.items():\n",
    "    if model_name not in MODELS_TO_PRINT:\n",
    "        continue\n",
    "            \n",
    "    plt.plot(valid_vec[:])\n",
    "    legends_raw.append(model_name)\n",
    "    \n",
    "    \n",
    "\n",
    "plt.title('Training progress on validation data (model UNET++)')\n",
    "plt.grid()\n",
    "plt.legend(legends_raw)\n",
    "plt.xlabel('epoch number')\n",
    "plt.ylabel('dice loss')\n",
    "plt.show()"
   ]
  },
  {
   "cell_type": "code",
   "execution_count": null,
   "id": "72e52169",
   "metadata": {},
   "outputs": [],
   "source": []
  },
  {
   "cell_type": "code",
   "execution_count": null,
   "id": "76f9fd13",
   "metadata": {},
   "outputs": [],
   "source": []
  },
  {
   "cell_type": "markdown",
   "id": "ad41b606",
   "metadata": {},
   "source": [
    "# Plot images for NDVI data"
   ]
  },
  {
   "cell_type": "code",
   "execution_count": null,
   "id": "ed753271",
   "metadata": {},
   "outputs": [],
   "source": [
    "def get_prefiction_figure_for_model(model_name: str, prediction_group: int):\n",
    "    model_dir_path = get_dir_path_for_model(model_name)\n",
    "    pickle_fig_path = os.path.join(model_dir_path, 'figures', f'test_predictions_{prediction_group}.pickle')\n",
    "\n",
    "    with open(pickle_fig_path, 'rb') as file:\n",
    "        figx = pickle.load(file)\n",
    "        \n",
    "    return figx\n",
    "\n",
    "\n",
    "mpl.rcParams['figure.dpi'] = 200\n",
    "\n",
    "\n",
    "model_rgb_and_ndvi = 'UNET_PLUS_PLUS__EFFICIENT_NET_B3_ndvi2'\n",
    "model_only_ndvi = 'UNET_PLUS_PLUS__EFFICIENT_NET_B3_only_ndvi'\n",
    "\n",
    "\n",
    "PREDICTION_GROUP = 0  # 0 to 11\n",
    "ROW = 0  # 0 to 3\n",
    "\n",
    "PREDICTION_GROUP, ROW = (2, 1)\n",
    "# PREDICTION_GROUP, ROW = (6, 0)\n",
    "# PREDICTION_GROUP, ROW = (4, 0)\n",
    "\n",
    "\n",
    "only_ndvi_fig = get_prefiction_figure_for_model(model_only_ndvi, prediction_group=PREDICTION_GROUP)\n",
    "rgb_and_ndvi_fig = get_prefiction_figure_for_model(model_rgb_and_ndvi, prediction_group=PREDICTION_GROUP)\n",
    "\n",
    "\n",
    "\n",
    "\n",
    "# read the data from the plot\n",
    "ndvi_image = only_ndvi_fig.axes[ROW*8 + 0].images[0].get_array()\n",
    "mask_image = only_ndvi_fig.axes[ROW*8 + 1].images[0].get_array()\n",
    "only_ndvi_prediction = only_ndvi_fig.axes[ROW*8 + 2].images[0].get_array()\n",
    "\n",
    "rgb_image = rgb_and_ndvi_fig.axes[ROW*9 + 0].images[0].get_array()\n",
    "rgb_ndvi_prediction = rgb_and_ndvi_fig.axes[ROW*9 + 3].images[0].get_array()\n",
    "\n",
    "\n",
    "\n",
    "\n",
    "fontsize = 15\n",
    "title_offset_y = -0.13\n",
    "columns = 5\n",
    "rows = 1\n",
    "fig = plt.figure(figsize=(columns * 4, rows * 4))\n",
    "# fig.suptitle('Example training dataset images')  # or plt.suptitle('Main title')\n",
    "column_terator = 1\n",
    "\n",
    "fig.add_subplot(rows, columns, column_terator)\n",
    "plt.imshow(rgb_image)\n",
    "plt.axis('off')\n",
    "plt.title('a) RGB image', fontsize=fontsize, y=title_offset_y)\n",
    "column_terator += 1\n",
    "\n",
    "fig.add_subplot(rows, columns, column_terator)\n",
    "plt.imshow(ndvi_image)\n",
    "plt.axis('off')\n",
    "plt.title('b) NDVI image', fontsize=fontsize, y=title_offset_y)\n",
    "column_terator += 1\n",
    "\n",
    "fig.add_subplot(rows, columns, column_terator)\n",
    "plt.imshow(mask_image)\n",
    "plt.axis('off')\n",
    "plt.title('c) damaged area mask', fontsize=fontsize, y=title_offset_y)\n",
    "column_terator += 1\n",
    "\n",
    "fig.add_subplot(rows, columns, column_terator)\n",
    "plt.imshow(only_ndvi_prediction)\n",
    "plt.axis('off')\n",
    "plt.title('d) prediction on NDVI', fontsize=fontsize, y=title_offset_y)\n",
    "column_terator += 1\n",
    "\n",
    "fig.add_subplot(rows, columns, column_terator)\n",
    "plt.imshow(rgb_ndvi_prediction)\n",
    "plt.axis('off')\n",
    "plt.title('e) prediction on RGB+NDVI', fontsize=fontsize, y=title_offset_y)\n",
    "column_terator += 1\n",
    "\n",
    "\n",
    "\n"
   ]
  },
  {
   "cell_type": "code",
   "execution_count": null,
   "id": "64e302af",
   "metadata": {},
   "outputs": [],
   "source": [
    "# dummy = plt.figure()\n",
    "# new_manager = dummy.canvas.manager\n",
    "# new_manager.canvas.figure = rgb_and_ndvi_fig\n",
    "# rgb_and_ndvi_fig.set_canvas(new_manager.canvas)"
   ]
  },
  {
   "cell_type": "code",
   "execution_count": null,
   "id": "d315f5c5",
   "metadata": {},
   "outputs": [],
   "source": []
  },
  {
   "cell_type": "code",
   "execution_count": null,
   "id": "16da9826",
   "metadata": {},
   "outputs": [],
   "source": []
  },
  {
   "cell_type": "code",
   "execution_count": null,
   "id": "c8c110ea",
   "metadata": {},
   "outputs": [],
   "source": []
  },
  {
   "cell_type": "code",
   "execution_count": null,
   "id": "ff608646",
   "metadata": {},
   "outputs": [],
   "source": []
  },
  {
   "cell_type": "code",
   "execution_count": null,
   "id": "65710cd9",
   "metadata": {},
   "outputs": [],
   "source": []
  },
  {
   "cell_type": "code",
   "execution_count": null,
   "id": "4669f4ac",
   "metadata": {},
   "outputs": [],
   "source": []
  },
  {
   "cell_type": "code",
   "execution_count": null,
   "id": "4f4c805c",
   "metadata": {},
   "outputs": [],
   "source": []
  },
  {
   "cell_type": "code",
   "execution_count": null,
   "id": "7cd90b8f",
   "metadata": {},
   "outputs": [],
   "source": []
  },
  {
   "cell_type": "code",
   "execution_count": null,
   "id": "3a12576e",
   "metadata": {},
   "outputs": [],
   "source": []
  }
 ],
 "metadata": {
  "kernelspec": {
   "display_name": "Python 3 (ipykernel)",
   "language": "python",
   "name": "python3"
  },
  "language_info": {
   "codemirror_mode": {
    "name": "ipython",
    "version": 3
   },
   "file_extension": ".py",
   "mimetype": "text/x-python",
   "name": "python",
   "nbconvert_exporter": "python",
   "pygments_lexer": "ipython3",
   "version": "3.7.9"
  }
 },
 "nbformat": 4,
 "nbformat_minor": 5
}
