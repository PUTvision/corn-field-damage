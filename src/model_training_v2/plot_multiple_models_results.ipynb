{
 "cells": [
  {
   "cell_type": "code",
   "execution_count": null,
   "id": "39a30745",
   "metadata": {},
   "outputs": [],
   "source": [
    "import os\n",
    "import sys\n",
    "import glob\n",
    "import json \n",
    "import pprint\n",
    "\n",
    "from matplotlib import pyplot as plt\n",
    "import numpy as np"
   ]
  },
  {
   "cell_type": "code",
   "execution_count": null,
   "id": "0565197f",
   "metadata": {},
   "outputs": [],
   "source": []
  },
  {
   "cell_type": "code",
   "execution_count": null,
   "id": "3223568c",
   "metadata": {},
   "outputs": [],
   "source": []
  },
  {
   "cell_type": "code",
   "execution_count": null,
   "id": "5197ef51",
   "metadata": {},
   "outputs": [],
   "source": [
    "MODEL_TRAINING_OUTPUT_BASE_DIR = '/media/data/local/corn/out/19_12_21/'"
   ]
  },
  {
   "cell_type": "code",
   "execution_count": null,
   "id": "cf8ac033",
   "metadata": {},
   "outputs": [],
   "source": []
  },
  {
   "cell_type": "code",
   "execution_count": null,
   "id": "c32ecb33",
   "metadata": {},
   "outputs": [],
   "source": [
    "dir_names = [name for name in os.listdir(MODEL_TRAINING_OUTPUT_BASE_DIR) if os.path.isdir(os.path.join(MODEL_TRAINING_OUTPUT_BASE_DIR, name))]\n",
    "results = {}\n",
    "\n",
    "\n",
    "for dir_name in dir_names:\n",
    "    if not dir_name.startswith('model_'):\n",
    "        print(f'Skipping directory {dir_name}')\n",
    "        continue\n",
    "    \n",
    "    dir_path = os.path.join(MODEL_TRAINING_OUTPUT_BASE_DIR, dir_name)\n",
    "    model_result_files = glob.glob(os.path.join(dir_path, 'model_*_result.json'))\n",
    "    if len(model_result_files) != 1:\n",
    "        print(f'Invalid directory results in {dir_name}')\n",
    "        continue\n",
    "        \n",
    "    model_result_file_path = model_result_files[0]\n",
    "    \n",
    "    def remove_prefix(text, prefix):\n",
    "        return text[text.startswith(prefix) and len(prefix):]\n",
    "\n",
    "    model_name = remove_prefix(dir_name, 'model_')\n",
    "    with open(model_result_file_path, 'rt') as file:\n",
    "        results[model_name] = json.load(file)\n",
    "        "
   ]
  },
  {
   "cell_type": "code",
   "execution_count": null,
   "id": "e9fce535",
   "metadata": {},
   "outputs": [],
   "source": []
  },
  {
   "cell_type": "code",
   "execution_count": null,
   "id": "dff1f74f",
   "metadata": {},
   "outputs": [],
   "source": [
    "test_results_metrics = {\n",
    "    'fscore': {},\n",
    "    'iou_score': {},\n",
    "    'IoU_Class1': {},\n",
    "    'accuracy': {},\n",
    "    'dice_loss': {},\n",
    "}\n",
    "\n",
    "for model_name, result in results.items():\n",
    "    for metric_name in test_results_metrics.keys():\n",
    "        test_results_metrics[metric_name][model_name] = result['test_log'][metric_name]\n",
    "        \n"
   ]
  },
  {
   "cell_type": "code",
   "execution_count": null,
   "id": "9531d2d6",
   "metadata": {
    "scrolled": false
   },
   "outputs": [],
   "source": [
    "# pprint.pprint(test_results_metrics)\n",
    "\n",
    "for metric_name in test_results_metrics.keys():\n",
    "    data_dict = test_results_metrics[metric_name]\n",
    "    data_dict = dict(sorted(data_dict.items(), key=lambda item: item[1], reverse=True))\n",
    "    keys = data_dict.keys()\n",
    "    values = data_dict.values()\n",
    "    plt.bar(keys, values)\n",
    "    plt.xticks(rotation='vertical')\n",
    "    plt.ylim([min(data_dict.values())-0.1, max(data_dict.values())+0.1])\n",
    "    plt.title(metric_name)\n",
    "    plt.grid()\n",
    "    plt.show()\n",
    "    "
   ]
  },
  {
   "cell_type": "code",
   "execution_count": null,
   "id": "a5019833",
   "metadata": {},
   "outputs": [],
   "source": []
  },
  {
   "cell_type": "code",
   "execution_count": null,
   "id": "235fd238",
   "metadata": {},
   "outputs": [],
   "source": []
  },
  {
   "cell_type": "code",
   "execution_count": null,
   "id": "e2d577ff",
   "metadata": {},
   "outputs": [],
   "source": []
  }
 ],
 "metadata": {
  "kernelspec": {
   "display_name": "Python 3 (ipykernel)",
   "language": "python",
   "name": "python3"
  },
  "language_info": {
   "codemirror_mode": {
    "name": "ipython",
    "version": 3
   },
   "file_extension": ".py",
   "mimetype": "text/x-python",
   "name": "python",
   "nbconvert_exporter": "python",
   "pygments_lexer": "ipython3",
   "version": "3.7.9"
  }
 },
 "nbformat": 4,
 "nbformat_minor": 5
}
