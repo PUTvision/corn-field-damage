{
 "cells": [
  {
   "cell_type": "code",
   "execution_count": null,
   "id": "797080ee",
   "metadata": {},
   "outputs": [],
   "source": [
    "import os\n",
    "from dataclasses import dataclass, field\n",
    "from typing import List\n",
    "import random\n",
    "import copy\n",
    "import sys\n",
    "from functools import partial\n",
    "\n",
    "import cv2\n",
    "import torch\n",
    "from matplotlib import pyplot as plt\n",
    "import segmentation_models_pytorch as smp\n",
    "import numpy as np\n",
    "from torch import nn, optim\n",
    "import json"
   ]
  },
  {
   "cell_type": "code",
   "execution_count": null,
   "id": "714048f6",
   "metadata": {},
   "outputs": [],
   "source": []
  },
  {
   "cell_type": "code",
   "execution_count": null,
   "id": "b7e6e9c7",
   "metadata": {},
   "outputs": [],
   "source": [
    "sys.path.append('/home/przemek/Projects/pp/corn-field-damage/src')\n",
    "import model_training_v2.common.dataset_preparation as dataset_preparation\n",
    "import model_training_v2.common.corn_dataset as corn_dataset\n",
    "import model_training_v2.common.model_definition as model_definition\n",
    "import model_training_v2.common.model_training_results as model_training_results\n",
    "import model_training_v2.common.model_training as model_training\n",
    "import model_training_v2.common.plot_graphs as plot_graphs\n",
    "\n",
    "\n",
    "from importlib import reload \n",
    "reload(dataset_preparation)\n",
    "reload(corn_dataset)\n",
    "reload(model_definition)\n",
    "reload(model_training_results)\n",
    "reload(model_training)\n",
    "reload(plot_graphs)"
   ]
  },
  {
   "cell_type": "code",
   "execution_count": null,
   "id": "abf989f2",
   "metadata": {},
   "outputs": [],
   "source": []
  },
  {
   "cell_type": "code",
   "execution_count": null,
   "id": "ec07e0f6",
   "metadata": {},
   "outputs": [],
   "source": [
    "from IPython.core.display import display, HTML\n",
    "display(HTML(\"<style>.container { width:100% !important; }</style>\"))"
   ]
  },
  {
   "cell_type": "code",
   "execution_count": null,
   "id": "33740fe9",
   "metadata": {},
   "outputs": [],
   "source": []
  },
  {
   "cell_type": "code",
   "execution_count": null,
   "id": "9cc795b4",
   "metadata": {},
   "outputs": [],
   "source": [
    "CPU_DEVICE = 'cpu'\n",
    "DEVICE = 'cuda' if torch.cuda.is_available() else 'cpu'\n",
    "# DEVICE = 'cpu'\n",
    "DEVICE"
   ]
  },
  {
   "cell_type": "code",
   "execution_count": null,
   "id": "d3d30941",
   "metadata": {},
   "outputs": [],
   "source": []
  },
  {
   "cell_type": "code",
   "execution_count": null,
   "id": "1e1cf48b",
   "metadata": {},
   "outputs": [],
   "source": []
  },
  {
   "cell_type": "code",
   "execution_count": null,
   "id": "a9f70ba1",
   "metadata": {},
   "outputs": [],
   "source": [
    "\n"
   ]
  },
  {
   "cell_type": "code",
   "execution_count": null,
   "id": "9814069d",
   "metadata": {},
   "outputs": [],
   "source": []
  },
  {
   "cell_type": "code",
   "execution_count": null,
   "id": "b2b6f0ec",
   "metadata": {},
   "outputs": [],
   "source": [
    "model_type = model_definition.ModelType.UNET_PLUS_PLUS\n",
    "# model_type = model_definition.ModelType.UNET\n",
    "\n",
    "\n",
    "model, model_params = model_definition.get_model_with_params(model_type)\n",
    "res = model_training_results.ModelTrainingResults(model_params=model_params)\n",
    "\n",
    "\n",
    "print(f'model_params = {model_params}')\n",
    "print(model)\n",
    "\n",
    "\n",
    "# model.load_state_dict(torch.load('/media/data/local/corn/processed_stride768_v2/segfromer/model_cpu_segformer_epoch20__after_first_training'))\n",
    "# model.eval()\n",
    "# model.to(DEVICE)"
   ]
  },
  {
   "cell_type": "code",
   "execution_count": null,
   "id": "6a6b03da",
   "metadata": {},
   "outputs": [],
   "source": []
  },
  {
   "cell_type": "code",
   "execution_count": null,
   "id": "c2a38360",
   "metadata": {},
   "outputs": [],
   "source": [
    "TILES_BASE_DIR = '/media/data/local/corn/new/tiles_stride_768/'\n",
    "\n",
    "\n",
    "train_loader, valid_loader, test_loader = corn_dataset.get_train_valid_test_loaders(\n",
    "    dataset_name='dataset_split_demo.json',  # only a few samples for demo testing\n",
    "    base_dir_path=TILES_BASE_DIR, \n",
    "    batch_size=model_params.batch_size, \n",
    "    mask_scalling=model_params.mask_scalling_factor)"
   ]
  },
  {
   "cell_type": "code",
   "execution_count": null,
   "id": "7638034e",
   "metadata": {},
   "outputs": [],
   "source": [
    "OUTPUT_DIR = os.path.join('/tmp/aaa/out/', model_params.get_model_file_name())\n",
    "os.makedirs(OUTPUT_DIR, exist_ok=True)\n",
    "\n",
    "res.set(TILES_BASE_DIR=TILES_BASE_DIR)\n",
    "res.set(OUTPUT_DIR=OUTPUT_DIR)"
   ]
  },
  {
   "cell_type": "code",
   "execution_count": null,
   "id": "e32c0d52",
   "metadata": {},
   "outputs": [],
   "source": []
  },
  {
   "cell_type": "code",
   "execution_count": null,
   "id": "91e00230",
   "metadata": {
    "scrolled": false
   },
   "outputs": [],
   "source": [
    "fig_example_imgages_testloader = plot_graphs.plot_images_from_dataloader(test_loader)\n",
    "res.add_fig(fig_example_imgages_testloader=fig_example_imgages_testloader)\n",
    "\n"
   ]
  },
  {
   "cell_type": "code",
   "execution_count": null,
   "id": "e2b329a4",
   "metadata": {},
   "outputs": [],
   "source": []
  },
  {
   "cell_type": "code",
   "execution_count": null,
   "id": "ecb63f77",
   "metadata": {},
   "outputs": [],
   "source": [
    "model_trainer = model_training.ModelTrainer(\n",
    "    model=model,\n",
    "    device=DEVICE,\n",
    "    model_params=model_params,\n",
    "    res=res,\n",
    "    )"
   ]
  },
  {
   "cell_type": "code",
   "execution_count": null,
   "id": "1a8f3e66",
   "metadata": {},
   "outputs": [],
   "source": []
  },
  {
   "cell_type": "code",
   "execution_count": null,
   "id": "06dca010",
   "metadata": {},
   "outputs": [],
   "source": []
  },
  {
   "cell_type": "code",
   "execution_count": null,
   "id": "315102df",
   "metadata": {
    "scrolled": true
   },
   "outputs": [],
   "source": [
    "# lrs = [0.0005] * 3 + [0.0001] * 4  + [0.00005] * 11 +  [0.00001] * 11 + [0.000005] * 11 + [0.000005] * 25\n",
    "NUM = 9\n",
    "NUM = 3\n",
    "lrs = [0.0001] * NUM + [0.00003] * NUM + [0.00001] * NUM + [0.000003] * NUM + [0.000001] * NUM + [0.0000001] * NUM\n",
    "        \n",
    "model_trainer.train(train_loader=train_loader, valid_loader=valid_loader, device=DEVICE, cpu_device=CPU_DEVICE, lrs=lrs)\n"
   ]
  },
  {
   "cell_type": "code",
   "execution_count": null,
   "id": "6787e199",
   "metadata": {},
   "outputs": [],
   "source": [
    "model_trainer.valid_logs_vec[0]"
   ]
  },
  {
   "cell_type": "code",
   "execution_count": null,
   "id": "a5031cf3",
   "metadata": {},
   "outputs": [],
   "source": [
    "# for log in model_trainer.valid_logs_vec:\n",
    "#     print(log['dice_loss'] + log['fscore'])"
   ]
  },
  {
   "cell_type": "code",
   "execution_count": null,
   "id": "6c41459d",
   "metadata": {},
   "outputs": [],
   "source": []
  },
  {
   "cell_type": "code",
   "execution_count": null,
   "id": "820c7625",
   "metadata": {},
   "outputs": [],
   "source": [
    "last_model = model"
   ]
  },
  {
   "cell_type": "code",
   "execution_count": null,
   "id": "2fbba8f5",
   "metadata": {
    "scrolled": false
   },
   "outputs": [],
   "source": [
    "figures = plot_graphs.plot_training_metrics(model_trainer=model_trainer)\n",
    "res.add_fig(**figures)"
   ]
  },
  {
   "cell_type": "code",
   "execution_count": null,
   "id": "be40e6de",
   "metadata": {},
   "outputs": [],
   "source": []
  },
  {
   "cell_type": "code",
   "execution_count": null,
   "id": "711d525f",
   "metadata": {},
   "outputs": [],
   "source": []
  },
  {
   "cell_type": "code",
   "execution_count": null,
   "id": "7e199f3d",
   "metadata": {},
   "outputs": [],
   "source": [
    "\n",
    "\n",
    "\n",
    "model_trainer.run_test(test_loader=test_loader, device=DEVICE)"
   ]
  },
  {
   "cell_type": "code",
   "execution_count": null,
   "id": "f5fb140e",
   "metadata": {},
   "outputs": [],
   "source": []
  },
  {
   "cell_type": "code",
   "execution_count": null,
   "id": "55cd2c07",
   "metadata": {
    "scrolled": true
   },
   "outputs": [],
   "source": [
    "model = model_trainer.best_model\n",
    "model_file_path = os.path.join(OUTPUT_DIR, 'model')\n",
    "model = model.to('cpu')                 \n",
    "torch.save(model.state_dict(), model_file_path)\n",
    "\n",
    "\n",
    "# model.load_state_dict(torch.load('/media/data/local/corn/processed_stride768/model_cpu'))\n",
    "# model.eval()\n",
    "# best_model = model"
   ]
  },
  {
   "cell_type": "code",
   "execution_count": null,
   "id": "a9b372e9",
   "metadata": {},
   "outputs": [],
   "source": []
  },
  {
   "cell_type": "code",
   "execution_count": null,
   "id": "037c1b11",
   "metadata": {},
   "outputs": [],
   "source": [
    "# model = model.to('cpu')"
   ]
  },
  {
   "cell_type": "code",
   "execution_count": null,
   "id": "07ad7193",
   "metadata": {
    "scrolled": false
   },
   "outputs": [],
   "source": [
    "figs = plot_graphs.plot_example_predictions(\n",
    "    model=model,\n",
    "    model_params=model_params,\n",
    "    test_loader=test_loader,\n",
    "    number_of_images=3)\n",
    "\n",
    "res.add_fig(**figs)"
   ]
  },
  {
   "cell_type": "code",
   "execution_count": null,
   "id": "68e55787",
   "metadata": {},
   "outputs": [],
   "source": []
  },
  {
   "cell_type": "code",
   "execution_count": null,
   "id": "eaee2135",
   "metadata": {},
   "outputs": [],
   "source": [
    "# 'manual' calculations as sanity check\n",
    "\n",
    "model = model.to(CPU_DEVICE)\n",
    "model_training.manual_prediction_test(\n",
    "    test_loader=test_loader, \n",
    "    model=model, \n",
    "    device=CPU_DEVICE,\n",
    "    model_params=model_params,\n",
    "    )\n"
   ]
  },
  {
   "cell_type": "code",
   "execution_count": null,
   "id": "4c027d6a",
   "metadata": {},
   "outputs": [],
   "source": [
    "res.save(dir_path=OUTPUT_DIR)"
   ]
  },
  {
   "cell_type": "code",
   "execution_count": null,
   "id": "5d15f9bc",
   "metadata": {},
   "outputs": [],
   "source": []
  },
  {
   "cell_type": "code",
   "execution_count": null,
   "id": "d3e79ad9",
   "metadata": {},
   "outputs": [],
   "source": [
    "\n",
    "\n",
    "\n"
   ]
  },
  {
   "cell_type": "code",
   "execution_count": null,
   "id": "9542a5ba",
   "metadata": {},
   "outputs": [],
   "source": []
  },
  {
   "cell_type": "code",
   "execution_count": null,
   "id": "c1f7d9f4",
   "metadata": {},
   "outputs": [],
   "source": []
  },
  {
   "cell_type": "code",
   "execution_count": null,
   "id": "6e205856",
   "metadata": {},
   "outputs": [],
   "source": []
  },
  {
   "cell_type": "code",
   "execution_count": null,
   "id": "35aedcca",
   "metadata": {},
   "outputs": [],
   "source": []
  }
 ],
 "metadata": {
  "kernelspec": {
   "display_name": "Python 3 (ipykernel)",
   "language": "python",
   "name": "python3"
  },
  "language_info": {
   "codemirror_mode": {
    "name": "ipython",
    "version": 3
   },
   "file_extension": ".py",
   "mimetype": "text/x-python",
   "name": "python",
   "nbconvert_exporter": "python",
   "pygments_lexer": "ipython3",
   "version": "3.7.9"
  }
 },
 "nbformat": 4,
 "nbformat_minor": 5
}
