{
 "cells": [
  {
   "cell_type": "code",
   "execution_count": 1,
   "id": "9713e549",
   "metadata": {},
   "outputs": [
    {
     "name": "stdout",
     "output_type": "stream",
     "text": [
      "fotomapa_size = ((15.571368452182115, 52.252859269139414), (15.577569741830377, 52.249266172814515))\n"
     ]
    }
   ],
   "source": [
    "import os\n",
    "\n",
    "import cv2\n",
    "from geotiff import GeoTiff\n",
    "import geopandas as gp\n",
    "import geopandas\n",
    "\n",
    "\n",
    "base_data_dir_path = \"/home/przemek/Downloads/corn2/kukurydza_5_ha/\"\n",
    "tif_file_path = os.path.join(base_data_dir_path, 'fotomapa.tif')\n",
    "\n",
    "geo_tiff = GeoTiff(tif_file_path)\n",
    "print(f'fotomapa_size = {geo_tiff.tif_bBox_wgs_84}')\n",
    "\n",
    "# img = cv2.imread(tif_file_path)\n",
    "# dir(img)\n",
    "# print(img.shape)\n",
    "# subimg = img[1000:1100, 1000:1100]\n",
    "# cv2.imshow('subimg', subimg)\n",
    "# cv2.waitKey()\n",
    "\n",
    "\n",
    "\n",
    "\n"
   ]
  },
  {
   "cell_type": "code",
   "execution_count": 3,
   "id": "9299497b",
   "metadata": {},
   "outputs": [
    {
     "data": {
      "text/plain": [
       "<AxesSubplot:>"
      ]
     },
     "execution_count": 3,
     "metadata": {},
     "output_type": "execute_result"
    },
    {
     "data": {
      "image/png": "[encoded data removed]",
      "text/plain": [
       "<Figure size 432x288 with 1 Axes>"
      ]
     },
     "metadata": {
      "needs_background": "light"
     },
     "output_type": "display_data"
    }
   ],
   "source": [
    "area_file_path = os.path.join(base_data_dir_path, 'obszar.gpkg')\n",
    "gp_area = geopandas.read_file(area_file_path)\n",
    "\n",
    "\n",
    "gp_area.plot()\n",
    "\n",
    "\n"
   ]
  },
  {
   "cell_type": "code",
   "execution_count": null,
   "id": "7ccd4885",
   "metadata": {},
   "outputs": [],
   "source": []
  },
  {
   "cell_type": "code",
   "execution_count": null,
   "id": "a0d2b0ce",
   "metadata": {},
   "outputs": [],
   "source": []
  }
 ],
 "metadata": {
  "kernelspec": {
   "display_name": "Python 3 (ipykernel)",
   "language": "python",
   "name": "python3"
  },
  "language_info": {
   "codemirror_mode": {
    "name": "ipython",
    "version": 3
   },
   "file_extension": ".py",
   "mimetype": "text/x-python",
   "name": "python",
   "nbconvert_exporter": "python",
   "pygments_lexer": "ipython3",
   "version": "3.7.9"
  }
 },
 "nbformat": 4,
 "nbformat_minor": 5
}
