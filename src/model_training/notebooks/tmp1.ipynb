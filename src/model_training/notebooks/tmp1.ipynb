{
 "cells": [
  {
   "cell_type": "code",
   "execution_count": null,
   "id": "75886c44",
   "metadata": {},
   "outputs": [],
   "source": [
    "import os\n",
    "\n",
    "import cv2\n",
    "import torch\n",
    "import albumentations as A\n",
    "from matplotlib import pyplot as plt\n"
   ]
  },
  {
   "cell_type": "code",
   "execution_count": null,
   "id": "44ebf0c8",
   "metadata": {},
   "outputs": [],
   "source": []
  },
  {
   "cell_type": "code",
   "execution_count": null,
   "id": "f022127b",
   "metadata": {},
   "outputs": [],
   "source": [
    "TILES_BASE_DIR = \"/media/przemek/data/corn_data/processed\"\n",
    "SUBDIRECTORIES_TO_PROCESS = [\n",
    "    \"kukurydza_5_ha\",\n",
    "]\n",
    "\n",
    "\n",
    "UNCROPPED_TILE_SIZE = (512 + 256)  # in pixels\n",
    "CROPPED_TILE_SIZE = 512\n",
    "CROP_TILE_MARGIN = (UNCROPPED_TILE_SIZE - CROPPED_TILE_SIZE) // 2"
   ]
  },
  {
   "cell_type": "code",
   "execution_count": null,
   "id": "de0d6ddf",
   "metadata": {},
   "outputs": [],
   "source": [
    "tiles_img_paths = []\n",
    "tiles_mask_paths = []\n",
    "\n",
    "\n",
    "for dir_name in SUBDIRECTORIES_TO_PROCESS:\n",
    "    dir_path = os.path.join(TILES_BASE_DIR, dir_name)\n",
    "    file_names = [f for f in os.listdir(dir_path) if os.path.isfile(os.path.join(dir_path, f))]\n",
    "    \n",
    "    mask_files_prefixes = set([f[:f.rfind('_')] for f in file_names if 'mask' in f])\n",
    "    img_files_prefixes = set([f[:f.rfind('_')] for f in file_names if 'img' in f])\n",
    "    common_files_prefixes = mask_files_prefixes.intersection(img_files_prefixes)\n",
    "    all_files_prefixes = mask_files_prefixes.union(img_files_prefixes)\n",
    "    missing_files_prefixes = all_files_prefixes - common_files_prefixes\n",
    "    \n",
    "    if missing_files_prefixes:\n",
    "        raise Exception(f\"Some files don't have correponding pair in mask/image: {missing_files_prefixes}\")\n",
    "    \n",
    "    \n",
    "    for file_prefix in common_files_prefixes:\n",
    "        img_file_name = file_prefix + '_img.png'\n",
    "        mask_file_name = file_prefix + '_mask.png'\n",
    "        tiles_img_paths.append(os.path.join(dir_path, img_file_name))\n",
    "        tiles_mask_paths.append(os.path.join(dir_path, mask_file_name))\n",
    "        \n",
    "print(f'Number of tiles = {len(tiles_img_paths)}')"
   ]
  },
  {
   "cell_type": "code",
   "execution_count": null,
   "id": "482353e7",
   "metadata": {},
   "outputs": [],
   "source": []
  },
  {
   "cell_type": "code",
   "execution_count": null,
   "id": "6b7dc988",
   "metadata": {},
   "outputs": [],
   "source": [
    "img = cv2.imread(tiles_img_paths[433])\n",
    "mask = cv2.imread(tiles_mask_paths[433], cv2.IMREAD_GRAYSCALE)\n",
    "plt.imshow(img)\n",
    "plt.show()\n",
    "plt.imshow(mask)"
   ]
  },
  {
   "cell_type": "code",
   "execution_count": null,
   "id": "5b991653",
   "metadata": {},
   "outputs": [],
   "source": [
    "UNCROPPED_TILE_SIZE = (512 + 256)  # in pixels\n",
    "CROPPED_TILE_SIZE = 512\n",
    "CROP_TILE_MARGIN = (UNCROPPED_TILE_SIZE - CROPPED_TILE_SIZE) // 2\n",
    "\n",
    "\n",
    "# Declare an augmentation pipeline\n",
    "transform = A.Compose([\n",
    "    A.HorizontalFlip(p=0.5),\n",
    "    A.VerticalFlip(p=0.5),\n",
    "    A.RandomScale(scale_limit=0.15),  # above scale 0.16 images are too small\n",
    "    A.Rotate(limit=90),  # degrees\n",
    "    A.Crop(x_min=CROP_TILE_MARGIN, y_min=CROP_TILE_MARGIN, x_max=UNCROPPED_TILE_SIZE-CROP_TILE_MARGIN-1, y_max=UNCROPPED_TILE_SIZE-CROP_TILE_MARGIN-1),\n",
    "])\n",
    "\n",
    "# TODO - color, contrast, gamma, randomShadow, rain\n",
    "\n",
    "transformed = transform(image=img, mask=mask)\n",
    "transformed_image = transformed[\"image\"]\n",
    "transformed_mask = transformed[\"mask\"]\n",
    "\n",
    "plt.imshow(transformed_image)\n",
    "plt.show()\n",
    "plt.imshow(transformed_mask)\n",
    "\n",
    "mask.shape\n"
   ]
  },
  {
   "cell_type": "code",
   "execution_count": null,
   "id": "b8052a49",
   "metadata": {},
   "outputs": [],
   "source": []
  },
  {
   "cell_type": "code",
   "execution_count": null,
   "id": "bbe67774",
   "metadata": {},
   "outputs": [],
   "source": []
  },
  {
   "cell_type": "code",
   "execution_count": null,
   "id": "573ae514",
   "metadata": {},
   "outputs": [],
   "source": []
  },
  {
   "cell_type": "code",
   "execution_count": null,
   "id": "692ed221",
   "metadata": {},
   "outputs": [],
   "source": []
  },
  {
   "cell_type": "code",
   "execution_count": null,
   "id": "2b780acd",
   "metadata": {},
   "outputs": [],
   "source": [
    "class CornFieldDamageDataset(torch.utils.data.Dataset):\n",
    "    def __init__(self, img_file_paths, mask_file_paths):\n",
    "        self.img_file_paths = img_file_paths\n",
    "        self.mask_file_paths = mask_file_paths\n",
    "        assert(len(self.img_file_paths) == len(mask_file_paths))\n",
    "    \n",
    "    def __len__(self):\n",
    "        return len(self.mask_file_paths)\n",
    "\n",
    "    def __getitem__(self, idx):\n",
    "        if torch.is_tensor(idx):\n",
    "            idx = idx.tolist()\n",
    "        \n",
    "    def _get_img_and_mask_tranform(self):\n",
    "        pass\n",
    "\n",
    "    "
   ]
  },
  {
   "cell_type": "code",
   "execution_count": null,
   "id": "38336c88",
   "metadata": {},
   "outputs": [],
   "source": []
  },
  {
   "cell_type": "code",
   "execution_count": null,
   "id": "e0d1fd7a",
   "metadata": {},
   "outputs": [],
   "source": []
  },
  {
   "cell_type": "code",
   "execution_count": null,
   "id": "63693610",
   "metadata": {},
   "outputs": [],
   "source": []
  },
  {
   "cell_type": "code",
   "execution_count": null,
   "id": "95a9b336",
   "metadata": {},
   "outputs": [],
   "source": []
  },
  {
   "cell_type": "code",
   "execution_count": null,
   "id": "e126ad6d",
   "metadata": {},
   "outputs": [],
   "source": []
  },
  {
   "cell_type": "code",
   "execution_count": null,
   "id": "8bee7d36",
   "metadata": {},
   "outputs": [],
   "source": []
  },
  {
   "cell_type": "code",
   "execution_count": null,
   "id": "2e6c2388",
   "metadata": {},
   "outputs": [],
   "source": []
  },
  {
   "cell_type": "code",
   "execution_count": null,
   "id": "de26a570",
   "metadata": {},
   "outputs": [],
   "source": []
  },
  {
   "cell_type": "code",
   "execution_count": null,
   "id": "681ae57b",
   "metadata": {},
   "outputs": [],
   "source": []
  },
  {
   "cell_type": "code",
   "execution_count": null,
   "id": "cef879a9",
   "metadata": {},
   "outputs": [],
   "source": []
  },
  {
   "cell_type": "code",
   "execution_count": null,
   "id": "dbce710b",
   "metadata": {},
   "outputs": [],
   "source": []
  },
  {
   "cell_type": "code",
   "execution_count": null,
   "id": "c4bffd13",
   "metadata": {},
   "outputs": [],
   "source": []
  },
  {
   "cell_type": "code",
   "execution_count": null,
   "id": "a5eb5421",
   "metadata": {},
   "outputs": [],
   "source": []
  },
  {
   "cell_type": "code",
   "execution_count": null,
   "id": "f692558d",
   "metadata": {},
   "outputs": [],
   "source": []
  },
  {
   "cell_type": "code",
   "execution_count": null,
   "id": "f818bc71",
   "metadata": {},
   "outputs": [],
   "source": []
  },
  {
   "cell_type": "code",
   "execution_count": null,
   "id": "4ba97243",
   "metadata": {},
   "outputs": [],
   "source": []
  },
  {
   "cell_type": "code",
   "execution_count": null,
   "id": "32ccfbeb",
   "metadata": {},
   "outputs": [],
   "source": []
  },
  {
   "cell_type": "code",
   "execution_count": null,
   "id": "45de786b",
   "metadata": {},
   "outputs": [],
   "source": []
  },
  {
   "cell_type": "code",
   "execution_count": null,
   "id": "d9317fb6",
   "metadata": {},
   "outputs": [],
   "source": []
  },
  {
   "cell_type": "code",
   "execution_count": null,
   "id": "c84ba88e",
   "metadata": {},
   "outputs": [],
   "source": []
  },
  {
   "cell_type": "code",
   "execution_count": null,
   "id": "fadc6951",
   "metadata": {},
   "outputs": [],
   "source": []
  },
  {
   "cell_type": "code",
   "execution_count": null,
   "id": "54aae233",
   "metadata": {},
   "outputs": [],
   "source": []
  }
 ],
 "metadata": {
  "kernelspec": {
   "display_name": "Python 3 (ipykernel)",
   "language": "python",
   "name": "python3"
  },
  "language_info": {
   "codemirror_mode": {
    "name": "ipython",
    "version": 3
   },
   "file_extension": ".py",
   "mimetype": "text/x-python",
   "name": "python",
   "nbconvert_exporter": "python",
   "pygments_lexer": "ipython3",
   "version": "3.7.5"
  }
 },
 "nbformat": 4,
 "nbformat_minor": 5
}
