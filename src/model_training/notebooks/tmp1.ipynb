{
 "cells": [
  {
   "cell_type": "code",
   "execution_count": null,
   "id": "70de8c38",
   "metadata": {},
   "outputs": [],
   "source": [
    "import os\n",
    "\n",
    "import cv2\n",
    "import torch\n",
    "import albumentations as A\n",
    "from matplotlib import pyplot as plt\n",
    "import segmentation_models_pytorch as smp\n",
    "import numpy as np\n",
    "from torch import nn, optim\n"
   ]
  },
  {
   "cell_type": "code",
   "execution_count": null,
   "id": "802052e7",
   "metadata": {},
   "outputs": [],
   "source": [
    "DEVICE = 'cuda' if torch.cuda.is_available() else 'cpu'\n",
    "DEVICE = 'cpu'"
   ]
  },
  {
   "cell_type": "code",
   "execution_count": null,
   "id": "4601df83",
   "metadata": {},
   "outputs": [],
   "source": [
    "TILES_BASE_DIR = \"/media/przemek/data/corn_data/processed\"\n",
    "SUBDIRECTORIES_TO_PROCESS = [\n",
    "    \"kukurydza_5_ha\",\n",
    "]\n",
    "\n",
    "\n",
    "UNCROPPED_TILE_SIZE = (512 + 256)  # in pixels\n",
    "CROPPED_TILE_SIZE = 512\n",
    "CROP_TILE_MARGIN = (UNCROPPED_TILE_SIZE - CROPPED_TILE_SIZE) // 2"
   ]
  },
  {
   "cell_type": "code",
   "execution_count": null,
   "id": "40d2e95a",
   "metadata": {},
   "outputs": [],
   "source": [
    "tiles_img_paths = []\n",
    "tiles_mask_paths = []\n",
    "\n",
    "\n",
    "for dir_name in SUBDIRECTORIES_TO_PROCESS:\n",
    "    dir_path = os.path.join(TILES_BASE_DIR, dir_name)\n",
    "    file_names = [f for f in os.listdir(dir_path) if os.path.isfile(os.path.join(dir_path, f))]\n",
    "    \n",
    "    mask_files_prefixes = set([f[:f.rfind('_')] for f in file_names if 'mask' in f])\n",
    "    img_files_prefixes = set([f[:f.rfind('_')] for f in file_names if 'img' in f])\n",
    "    common_files_prefixes = mask_files_prefixes.intersection(img_files_prefixes)\n",
    "    all_files_prefixes = mask_files_prefixes.union(img_files_prefixes)\n",
    "    missing_files_prefixes = all_files_prefixes - common_files_prefixes\n",
    "    \n",
    "    if missing_files_prefixes:\n",
    "        raise Exception(f\"Some files don't have correponding pair in mask/image: {missing_files_prefixes}\")\n",
    "    \n",
    "    \n",
    "    for file_prefix in common_files_prefixes:\n",
    "        img_file_name = file_prefix + '_img.png'\n",
    "        mask_file_name = file_prefix + '_mask.png'\n",
    "        tiles_img_paths.append(os.path.join(dir_path, img_file_name))\n",
    "        tiles_mask_paths.append(os.path.join(dir_path, mask_file_name))\n",
    "        \n",
    "print(f'Number of tiles = {len(tiles_img_paths)}')"
   ]
  },
  {
   "cell_type": "code",
   "execution_count": null,
   "id": "9a5b28e4",
   "metadata": {},
   "outputs": [],
   "source": []
  },
  {
   "cell_type": "code",
   "execution_count": null,
   "id": "7cef344d",
   "metadata": {},
   "outputs": [],
   "source": [
    "img = cv2.imread(tiles_img_paths[433])\n",
    "mask = cv2.imread(tiles_mask_paths[433], cv2.IMREAD_GRAYSCALE)\n",
    "plt.imshow(img)\n",
    "plt.show()\n",
    "plt.imshow(mask)\n"
   ]
  },
  {
   "cell_type": "code",
   "execution_count": null,
   "id": "93ed20d6",
   "metadata": {},
   "outputs": [],
   "source": []
  },
  {
   "cell_type": "code",
   "execution_count": null,
   "id": "3fa114d1",
   "metadata": {},
   "outputs": [],
   "source": [
    "transform = A.Compose([\n",
    "    A.HorizontalFlip(p=0.5),\n",
    "    A.VerticalFlip(p=0.5),\n",
    "    A.RandomScale(scale_limit=0.15),  # above scale 0.16 images are too small\n",
    "    A.Rotate(limit=90),  # degrees\n",
    "    A.Crop(x_min=CROP_TILE_MARGIN, y_min=CROP_TILE_MARGIN, x_max=UNCROPPED_TILE_SIZE-CROP_TILE_MARGIN, y_max=UNCROPPED_TILE_SIZE-CROP_TILE_MARGIN),\n",
    "])\n",
    "\n",
    "\n",
    "transformed = transform(image=img, mask=mask)\n",
    "image_transformed, mask_transformed = transformed['image'], transformed['mask']\n",
    "\n",
    "\n",
    "unique, counts = np.unique(mask, return_counts=True)\n",
    "dict(zip(unique, counts))"
   ]
  },
  {
   "cell_type": "code",
   "execution_count": null,
   "id": "0524ea55",
   "metadata": {},
   "outputs": [],
   "source": []
  },
  {
   "cell_type": "code",
   "execution_count": null,
   "id": "3377e40f",
   "metadata": {},
   "outputs": [],
   "source": [
    "img.shape\n",
    "img.transpose(2, 0, 1).shape"
   ]
  },
  {
   "cell_type": "code",
   "execution_count": null,
   "id": "2c774e5c",
   "metadata": {},
   "outputs": [],
   "source": []
  },
  {
   "cell_type": "code",
   "execution_count": null,
   "id": "6a894b3f",
   "metadata": {},
   "outputs": [],
   "source": [
    "SEGMENTATION_CLASS_VALUES = [0, 255, 127]\n",
    "NUMBER_OF_SEGMENTATION_CLASSES = len(SEGMENTATION_CLASS_VALUES)"
   ]
  },
  {
   "cell_type": "code",
   "execution_count": null,
   "id": "9a23f5f7",
   "metadata": {},
   "outputs": [],
   "source": [
    "class CornFieldDamageDataset(torch.utils.data.Dataset):\n",
    "    def __init__(self, img_file_paths, mask_file_paths):\n",
    "        self.img_file_paths = img_file_paths\n",
    "        self.mask_file_paths = mask_file_paths\n",
    "        assert(len(self.img_file_paths) == len(mask_file_paths))\n",
    "        self._img_and_mask_transform = self._get_img_and_mask_tranform()  # augmentation transform\n",
    "    \n",
    "    def __len__(self):\n",
    "        return len(self.mask_file_paths)\n",
    "\n",
    "    def __getitem__(self, idx):\n",
    "        if torch.is_tensor(idx):\n",
    "            idx = idx.tolist()\n",
    "        \n",
    "        image = cv2.imread(tiles_img_paths[idx])\n",
    "        image = cv2.cvtColor(image, cv2.COLOR_BGR2RGB)  # not really needed I guess\n",
    "        mask = cv2.imread(tiles_mask_paths[idx], cv2.IMREAD_GRAYSCALE)\n",
    "        transformed = self._img_and_mask_transform(image=img, mask=mask)\n",
    "        image, mask = transformed['image'], transformed['mask']\n",
    "        \n",
    "        masks = [(mask == v) for v in SEGMENTATION_CLASS_VALUES]\n",
    "        mask_stacked = np.stack(masks, axis=-1).astype('float')\n",
    "        \n",
    "        image = image.astype('float')\n",
    "        image /= 255\n",
    "        image = image.transpose(2, 0, 1)\n",
    "        \n",
    "        return image.astype('float32'), mask_stacked.astype('float32')\n",
    "        \n",
    "    def _get_img_and_mask_tranform(self):\n",
    "        # Declare an augmentation pipeline\n",
    "        transform = A.Compose([\n",
    "            A.HorizontalFlip(p=0.5),\n",
    "            A.VerticalFlip(p=0.5),\n",
    "            A.RandomScale(scale_limit=0.15),  # above scale 0.16 images are too small\n",
    "            A.Rotate(limit=90),  # degrees\n",
    "            A.Crop(x_min=CROP_TILE_MARGIN, y_min=CROP_TILE_MARGIN, x_max=UNCROPPED_TILE_SIZE-CROP_TILE_MARGIN, y_max=UNCROPPED_TILE_SIZE-CROP_TILE_MARGIN),\n",
    "        ])\n",
    "        # TODO - color, contrast, gamma, randomShadow, rain\n",
    "        return transform\n",
    "\n",
    "\n",
    "dataset_split_point = int(len(tiles_img_paths)*0.9)\n",
    "train_dataset = CornFieldDamageDataset(img_file_paths=tiles_img_paths[:dataset_split_point], mask_file_paths=tiles_mask_paths[:dataset_split_point])\n",
    "valid_dataset = CornFieldDamageDataset(img_file_paths=tiles_img_paths[dataset_split_point:], mask_file_paths=tiles_mask_paths[dataset_split_point:])\n",
    "\n",
    "train_loader = torch.utils.data.DataLoader(train_dataset, batch_size=8, shuffle=True)\n",
    "valid_loader = torch.utils.data.DataLoader(valid_dataset, batch_size=8, shuffle=False)"
   ]
  },
  {
   "cell_type": "code",
   "execution_count": null,
   "id": "e44b2722",
   "metadata": {},
   "outputs": [],
   "source": []
  },
  {
   "cell_type": "code",
   "execution_count": null,
   "id": "59ac4974",
   "metadata": {},
   "outputs": [],
   "source": []
  },
  {
   "cell_type": "code",
   "execution_count": null,
   "id": "94afd9c8",
   "metadata": {},
   "outputs": [],
   "source": []
  },
  {
   "cell_type": "code",
   "execution_count": null,
   "id": "5667978d",
   "metadata": {},
   "outputs": [],
   "source": [
    "image, mask = dataset[433] # get some sample\n",
    "plt.imshow(mask[:,:,0])\n",
    "plt.show()\n",
    "plt.imshow(mask[:,:,1])\n",
    "plt.show()\n",
    "plt.imshow(mask[:,:,2])\n",
    "plt.show()\n",
    "plt.imshow(image)"
   ]
  },
  {
   "cell_type": "code",
   "execution_count": null,
   "id": "7ef0fe63",
   "metadata": {},
   "outputs": [],
   "source": [
    "model = smp.Unet(\n",
    "    encoder_name=\"resnet34\",        # choose encoder, e.g. mobilenet_v2 or efficientnet-b7\n",
    "    encoder_weights=\"imagenet\",     # use `imagenet` pre-trained weights for encoder initialization\n",
    "    in_channels=3,                  # model input channels (1 for gray-scale images, 3 for RGB, etc.)\n",
    "    classes=NUMBER_OF_SEGMENTATION_CLASSES,  # model output channels (number of classes in your dataset)\n",
    "    activation='softmax2d',  # ?\n",
    ")\n",
    "\n",
    "print(model)\n"
   ]
  },
  {
   "cell_type": "code",
   "execution_count": null,
   "id": "91fa48da",
   "metadata": {},
   "outputs": [],
   "source": [
    "# criterion = nn.CrossEntropyLoss()\n",
    "loss = smp.utils.losses.DiceLoss()\n",
    "metrics = [\n",
    "    smp.utils.metrics.IoU(threshold=0.5),\n",
    "]\n",
    "\n",
    "\n",
    "# optimizer = optim.SGD(model_fnn.parameters(), lr=0.0001, momentum=0.9)\n",
    "optimizer = torch.optim.Adam([ \n",
    "    dict(params=model.parameters(), lr=0.0001),\n",
    "])\n",
    "\n",
    "\n",
    "\n",
    "# create epoch runners \n",
    "# it is a simple loop of iterating over dataloader`s samples\n",
    "train_epoch = smp.utils.train.TrainEpoch(\n",
    "    model, \n",
    "    loss=loss, \n",
    "    metrics=metrics, \n",
    "    optimizer=optimizer,\n",
    "    device=DEVICE,\n",
    "    verbose=True,\n",
    ")\n",
    "\n",
    "valid_epoch = smp.utils.train.ValidEpoch(\n",
    "    model, \n",
    "    loss=loss, \n",
    "    metrics=metrics, \n",
    "    device=DEVICE,\n",
    "    verbose=True,\n",
    ")"
   ]
  },
  {
   "cell_type": "code",
   "execution_count": null,
   "id": "cf81251f",
   "metadata": {},
   "outputs": [],
   "source": []
  },
  {
   "cell_type": "code",
   "execution_count": null,
   "id": "7ff9db26",
   "metadata": {},
   "outputs": [],
   "source": [
    "max_score = 0\n",
    "\n",
    "for i in range(0, 40):\n",
    "    print(f'\\nEpoch: {i}')\n",
    "    train_logs = train_epoch.run(train_loader)\n",
    "    valid_logs = valid_epoch.run(valid_loader)\n",
    "    \n",
    "    if max_score < valid_logs['iou_score']:\n",
    "        max_score = valid_logs['iou_score']\n",
    "#         torch.save(model, './best_model.pth')\n",
    "#         print('Model saved!')\n",
    "        \n",
    "    if i == 25:\n",
    "        optimizer.param_groups[0]['lr'] = 1e-5\n",
    "        print('Decrease decoder learning rate to 1e-5!')"
   ]
  },
  {
   "cell_type": "code",
   "execution_count": null,
   "id": "2d1b1349",
   "metadata": {},
   "outputs": [],
   "source": []
  },
  {
   "cell_type": "code",
   "execution_count": null,
   "id": "f824e4a2",
   "metadata": {},
   "outputs": [],
   "source": []
  },
  {
   "cell_type": "code",
   "execution_count": null,
   "id": "03b34f05",
   "metadata": {},
   "outputs": [],
   "source": []
  },
  {
   "cell_type": "code",
   "execution_count": null,
   "id": "a95bf85c",
   "metadata": {},
   "outputs": [],
   "source": []
  },
  {
   "cell_type": "code",
   "execution_count": null,
   "id": "e85b8824",
   "metadata": {},
   "outputs": [],
   "source": []
  },
  {
   "cell_type": "code",
   "execution_count": null,
   "id": "dc545f08",
   "metadata": {},
   "outputs": [],
   "source": []
  },
  {
   "cell_type": "code",
   "execution_count": null,
   "id": "c4bc4239",
   "metadata": {},
   "outputs": [],
   "source": []
  },
  {
   "cell_type": "code",
   "execution_count": null,
   "id": "938c98b7",
   "metadata": {},
   "outputs": [],
   "source": []
  },
  {
   "cell_type": "code",
   "execution_count": null,
   "id": "7e182c85",
   "metadata": {},
   "outputs": [],
   "source": []
  },
  {
   "cell_type": "code",
   "execution_count": null,
   "id": "eed11881",
   "metadata": {},
   "outputs": [],
   "source": []
  },
  {
   "cell_type": "code",
   "execution_count": null,
   "id": "e3d3c7e8",
   "metadata": {},
   "outputs": [],
   "source": []
  },
  {
   "cell_type": "code",
   "execution_count": null,
   "id": "246cfb50",
   "metadata": {},
   "outputs": [],
   "source": []
  },
  {
   "cell_type": "code",
   "execution_count": null,
   "id": "5ecc3468",
   "metadata": {},
   "outputs": [],
   "source": []
  },
  {
   "cell_type": "code",
   "execution_count": null,
   "id": "4166b87a",
   "metadata": {},
   "outputs": [],
   "source": []
  },
  {
   "cell_type": "code",
   "execution_count": null,
   "id": "21050529",
   "metadata": {},
   "outputs": [],
   "source": []
  },
  {
   "cell_type": "code",
   "execution_count": null,
   "id": "5206cb61",
   "metadata": {},
   "outputs": [],
   "source": []
  },
  {
   "cell_type": "code",
   "execution_count": null,
   "id": "0598de12",
   "metadata": {},
   "outputs": [],
   "source": []
  },
  {
   "cell_type": "code",
   "execution_count": null,
   "id": "16e17214",
   "metadata": {},
   "outputs": [],
   "source": []
  }
 ],
 "metadata": {
  "kernelspec": {
   "display_name": "Python 3 (ipykernel)",
   "language": "python",
   "name": "python3"
  },
  "language_info": {
   "codemirror_mode": {
    "name": "ipython",
    "version": 3
   },
   "file_extension": ".py",
   "mimetype": "text/x-python",
   "name": "python",
   "nbconvert_exporter": "python",
   "pygments_lexer": "ipython3",
   "version": "3.7.5"
  }
 },
 "nbformat": 4,
 "nbformat_minor": 5
}
