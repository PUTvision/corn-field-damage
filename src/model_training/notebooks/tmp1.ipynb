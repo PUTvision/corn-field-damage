{
 "cells": [
  {
   "cell_type": "code",
   "execution_count": null,
   "id": "797080ee",
   "metadata": {},
   "outputs": [],
   "source": [
    "import os\n",
    "\n",
    "import cv2\n",
    "import torch\n",
    "import albumentations as A\n",
    "from matplotlib import pyplot as plt\n",
    "import segmentation_models_pytorch as smp\n",
    "import numpy as np\n",
    "from torch import nn, optim\n"
   ]
  },
  {
   "cell_type": "code",
   "execution_count": null,
   "id": "9cc795b4",
   "metadata": {},
   "outputs": [],
   "source": [
    "DEVICE = 'cuda' if torch.cuda.is_available() else 'cpu'\n",
    "# DEVICE = 'cpu'\n",
    "DEVICE"
   ]
  },
  {
   "cell_type": "code",
   "execution_count": null,
   "id": "d3d30941",
   "metadata": {},
   "outputs": [],
   "source": [
    "from IPython.core.display import display, HTML\n",
    "display(HTML(\"<style>.container { width:100% !important; }</style>\"))"
   ]
  },
  {
   "cell_type": "code",
   "execution_count": null,
   "id": "01091ef1",
   "metadata": {},
   "outputs": [],
   "source": []
  },
  {
   "cell_type": "code",
   "execution_count": null,
   "id": "a9f70ba1",
   "metadata": {},
   "outputs": [],
   "source": [
    "TILES_BASE_DIR = \"/media/data/local/corn\"\n",
    "SUBDIRECTORIES_TO_PROCESS = [\n",
    "    \"kukurydza_5_ha\",\n",
    "]\n",
    "\n",
    "\n",
    "UNCROPPED_TILE_SIZE = (512 + 256)  # in pixels\n",
    "CROPPED_TILE_SIZE = 512\n",
    "CROP_TILE_MARGIN = (UNCROPPED_TILE_SIZE - CROPPED_TILE_SIZE) // 2"
   ]
  },
  {
   "cell_type": "code",
   "execution_count": null,
   "id": "b2b6f0ec",
   "metadata": {},
   "outputs": [],
   "source": [
    "tiles_img_paths = []\n",
    "tiles_mask_paths = []\n",
    "\n",
    "\n",
    "for dir_name in SUBDIRECTORIES_TO_PROCESS:\n",
    "    dir_path = os.path.join(TILES_BASE_DIR, dir_name)\n",
    "    file_names = [f for f in os.listdir(dir_path) if os.path.isfile(os.path.join(dir_path, f))]\n",
    "    \n",
    "    mask_files_prefixes = set([f[:f.rfind('_')] for f in file_names if 'mask' in f])\n",
    "    img_files_prefixes = set([f[:f.rfind('_')] for f in file_names if 'img' in f])\n",
    "    common_files_prefixes = mask_files_prefixes.intersection(img_files_prefixes)\n",
    "    all_files_prefixes = mask_files_prefixes.union(img_files_prefixes)\n",
    "    missing_files_prefixes = all_files_prefixes - common_files_prefixes\n",
    "    \n",
    "    if missing_files_prefixes:\n",
    "        raise Exception(f\"Some files don't have correponding pair in mask/image: {missing_files_prefixes}\")\n",
    "    \n",
    "    \n",
    "    for file_prefix in common_files_prefixes:\n",
    "        img_file_name = file_prefix + '_img.png'\n",
    "        mask_file_name = file_prefix + '_mask.png'\n",
    "        tiles_img_paths.append(os.path.join(dir_path, img_file_name))\n",
    "        tiles_mask_paths.append(os.path.join(dir_path, mask_file_name))\n",
    "        \n",
    "print(f'Number of tiles = {len(tiles_img_paths)}')"
   ]
  },
  {
   "cell_type": "code",
   "execution_count": null,
   "id": "7c840393",
   "metadata": {},
   "outputs": [],
   "source": []
  },
  {
   "cell_type": "code",
   "execution_count": null,
   "id": "7464b6e4",
   "metadata": {},
   "outputs": [],
   "source": [
    "# img = cv2.imread(tiles_img_paths[433])\n",
    "# mask = cv2.imread(tiles_mask_paths[433], cv2.IMREAD_GRAYSCALE)\n",
    "# plt.imshow(img)\n",
    "# plt.show()\n",
    "# plt.imshow(mask)\n"
   ]
  },
  {
   "cell_type": "code",
   "execution_count": null,
   "id": "690666cf",
   "metadata": {},
   "outputs": [],
   "source": []
  },
  {
   "cell_type": "code",
   "execution_count": null,
   "id": "462872e2",
   "metadata": {},
   "outputs": [],
   "source": [
    "# transform = A.Compose([\n",
    "#     A.HorizontalFlip(p=0.5),\n",
    "#     A.VerticalFlip(p=0.5),\n",
    "#     A.RandomScale(scale_limit=0.15),  # above scale 0.16 images are too small\n",
    "#     A.Rotate(limit=90),  # degrees\n",
    "#     A.Crop(x_min=CROP_TILE_MARGIN, y_min=CROP_TILE_MARGIN, x_max=UNCROPPED_TILE_SIZE-CROP_TILE_MARGIN, y_max=UNCROPPED_TILE_SIZE-CROP_TILE_MARGIN),\n",
    "# ])\n",
    "\n",
    "\n",
    "# transformed = transform(image=img, mask=mask)\n",
    "# image_transformed, mask_transformed = transformed['image'], transformed['mask']\n",
    "\n",
    "\n",
    "# unique, counts = np.unique(mask, return_counts=True)\n",
    "# dict(zip(unique, counts))"
   ]
  },
  {
   "cell_type": "code",
   "execution_count": null,
   "id": "56a09eb0",
   "metadata": {},
   "outputs": [],
   "source": []
  },
  {
   "cell_type": "code",
   "execution_count": null,
   "id": "43682015",
   "metadata": {},
   "outputs": [],
   "source": [
    "# img.shape\n",
    "# img.transpose(2, 0, 1).shape"
   ]
  },
  {
   "cell_type": "code",
   "execution_count": null,
   "id": "1bcbd19c",
   "metadata": {},
   "outputs": [],
   "source": []
  },
  {
   "cell_type": "code",
   "execution_count": null,
   "id": "6a6b03da",
   "metadata": {},
   "outputs": [],
   "source": [
    "SEGMENTATION_CLASS_VALUES = [0, 255, 127]\n",
    "NUMBER_OF_SEGMENTATION_CLASSES = len(SEGMENTATION_CLASS_VALUES)"
   ]
  },
  {
   "cell_type": "code",
   "execution_count": null,
   "id": "c2a38360",
   "metadata": {},
   "outputs": [],
   "source": [
    "class CornFieldDamageDataset(torch.utils.data.Dataset):\n",
    "    def __init__(self, img_file_paths, mask_file_paths):\n",
    "        self.img_file_paths = img_file_paths\n",
    "        self.mask_file_paths = mask_file_paths\n",
    "        assert(len(self.img_file_paths) == len(mask_file_paths))\n",
    "        self._img_and_mask_transform = self._get_img_and_mask_tranform()  # augmentation transform\n",
    "    \n",
    "    def __len__(self):\n",
    "        return len(self.mask_file_paths)\n",
    "\n",
    "    def __getitem__(self, idx):\n",
    "        if torch.is_tensor(idx):\n",
    "            idx = idx.tolist()\n",
    "        \n",
    "        image = cv2.imread(tiles_img_paths[idx])\n",
    "        image = cv2.cvtColor(image, cv2.COLOR_BGR2RGB)  # not really needed I guess\n",
    "        mask = cv2.imread(tiles_mask_paths[idx], cv2.IMREAD_GRAYSCALE)\n",
    "\n",
    "        transformed = self._img_and_mask_transform(image=image, mask=mask)\n",
    "        image, mask = transformed['image'], transformed['mask']\n",
    "        \n",
    "        masks = [(mask == v) for v in SEGMENTATION_CLASS_VALUES]\n",
    "        mask_stacked = np.stack(masks, axis=0).astype('float')\n",
    "        \n",
    "        image = image.astype('float')\n",
    "        image /= 255\n",
    "        image = image.transpose(2, 0, 1)\n",
    "        \n",
    "        return image.astype('float32'), mask_stacked.astype('float32')\n",
    "        \n",
    "    def _get_img_and_mask_tranform(self):\n",
    "        # Declare an augmentation pipeline\n",
    "        transform = A.Compose([\n",
    "            A.HorizontalFlip(p=0.5),\n",
    "            A.VerticalFlip(p=0.5),\n",
    "            A.RandomScale(scale_limit=0.15),  # above scale 0.16 images are too small\n",
    "            A.Rotate(limit=90),  # degrees\n",
    "            A.Crop(x_min=CROP_TILE_MARGIN, y_min=CROP_TILE_MARGIN, x_max=UNCROPPED_TILE_SIZE-CROP_TILE_MARGIN, y_max=UNCROPPED_TILE_SIZE-CROP_TILE_MARGIN),\n",
    "        ])\n",
    "        # TODO - color, contrast, gamma, randomShadow, rain\n",
    "        return transform\n",
    "\n",
    "\n",
    "dataset_split_point = int(len(tiles_img_paths)*0.9)\n",
    "train_dataset = CornFieldDamageDataset(img_file_paths=tiles_img_paths[:dataset_split_point], mask_file_paths=tiles_mask_paths[:dataset_split_point])\n",
    "valid_dataset = CornFieldDamageDataset(img_file_paths=tiles_img_paths[dataset_split_point:], mask_file_paths=tiles_mask_paths[dataset_split_point:])\n",
    "\n",
    "train_loader = torch.utils.data.DataLoader(train_dataset, batch_size=8, shuffle=True)\n",
    "valid_loader = torch.utils.data.DataLoader(valid_dataset, batch_size=8, shuffle=False)"
   ]
  },
  {
   "cell_type": "code",
   "execution_count": null,
   "id": "7638034e",
   "metadata": {},
   "outputs": [],
   "source": []
  },
  {
   "cell_type": "code",
   "execution_count": null,
   "id": "e32c0d52",
   "metadata": {},
   "outputs": [],
   "source": []
  },
  {
   "cell_type": "code",
   "execution_count": null,
   "id": "1b728f76",
   "metadata": {},
   "outputs": [],
   "source": []
  },
  {
   "cell_type": "code",
   "execution_count": null,
   "id": "1989858c",
   "metadata": {},
   "outputs": [],
   "source": [
    "image, mask = train_dataset[222] # get some sample\n",
    "plt.imshow(mask[:,:,0])\n",
    "plt.show()\n",
    "plt.imshow(mask[:,:,1])\n",
    "plt.show()\n",
    "plt.imshow(mask[:,:,2])\n",
    "plt.show()\n",
    "plt.imshow(image.transpose(1, 2, 0))"
   ]
  },
  {
   "cell_type": "code",
   "execution_count": null,
   "id": "91e00230",
   "metadata": {},
   "outputs": [],
   "source": [
    "model = smp.Unet(\n",
    "    encoder_name=\"resnet34\",        # choose encoder, e.g. mobilenet_v2 or efficientnet-b7\n",
    "    encoder_weights=\"imagenet\",     # use `imagenet` pre-trained weights for encoder initialization\n",
    "    in_channels=3,                  # model input channels (1 for gray-scale images, 3 for RGB, etc.)\n",
    "    classes=NUMBER_OF_SEGMENTATION_CLASSES,  # model output channels (number of classes in your dataset)\n",
    "    activation='softmax2d',  # ?\n",
    ")\n",
    "\n",
    "print(model)\n"
   ]
  },
  {
   "cell_type": "code",
   "execution_count": null,
   "id": "ecb63f77",
   "metadata": {},
   "outputs": [],
   "source": [
    "# criterion = nn.CrossEntropyLoss()\n",
    "loss = smp.utils.losses.DiceLoss()\n",
    "metrics = [\n",
    "    smp.utils.metrics.IoU(threshold=0.5),\n",
    "]\n",
    "\n",
    "\n",
    "# optimizer = optim.SGD(model_fnn.parameters(), lr=0.0001, momentum=0.9)\n",
    "optimizer = torch.optim.Adam([ \n",
    "    dict(params=model.parameters(), lr=0.0001),\n",
    "])\n",
    "\n",
    "\n",
    "\n",
    "# create epoch runners \n",
    "# it is a simple loop of iterating over dataloader`s samples\n",
    "train_epoch = smp.utils.train.TrainEpoch(\n",
    "    model, \n",
    "    loss=loss, \n",
    "    metrics=metrics, \n",
    "    optimizer=optimizer,\n",
    "    device=DEVICE,\n",
    "    verbose=True,\n",
    ")\n",
    "\n",
    "valid_epoch = smp.utils.train.ValidEpoch(\n",
    "    model, \n",
    "    loss=loss, \n",
    "    metrics=metrics, \n",
    "    device=DEVICE,\n",
    "    verbose=True,\n",
    ")"
   ]
  },
  {
   "cell_type": "code",
   "execution_count": null,
   "id": "19cd386a",
   "metadata": {},
   "outputs": [],
   "source": []
  },
  {
   "cell_type": "code",
   "execution_count": null,
   "id": "f5932ff1",
   "metadata": {},
   "outputs": [],
   "source": [
    "# for xb, yb in valid_loader: \n",
    "#     print(xb.shape, yb.shape)"
   ]
  },
  {
   "cell_type": "code",
   "execution_count": null,
   "id": "06dca010",
   "metadata": {},
   "outputs": [],
   "source": []
  },
  {
   "cell_type": "code",
   "execution_count": null,
   "id": "315102df",
   "metadata": {
    "scrolled": false
   },
   "outputs": [],
   "source": [
    "max_score = 0\n",
    "train_scores = []\n",
    "valid_scores = []\n",
    "train_dice_losses = []\n",
    "valid_dice_losses = []\n",
    "\n",
    "for i in range(0, 40):\n",
    "    print(f'\\nEpoch: {i}')\n",
    "    train_logs = train_epoch.run(train_loader)\n",
    "    valid_logs = valid_epoch.run(valid_loader)\n",
    "    \n",
    "    train_scores.append(train_logs['iou_score'])\n",
    "    valid_scores.append(valid_logs['iou_score'])\n",
    "    train_dice_losses.append(train_logs['dice_loss'])\n",
    "    valid_dice_losses.append(valid_logs['dice_loss'])\n",
    "\n",
    "        \n",
    "    if max_score < valid_logs['iou_score']:\n",
    "        max_score = valid_logs['iou_score']\n",
    "#         torch.save(model, './best_model.pth')\n",
    "#         print('Model saved!')\n",
    "        \n",
    "    if i == 25:\n",
    "        optimizer.param_groups[0]['lr'] = 1e-5\n",
    "        print('Decrease decoder learning rate to 1e-5!')"
   ]
  },
  {
   "cell_type": "code",
   "execution_count": null,
   "id": "2fbba8f5",
   "metadata": {},
   "outputs": [],
   "source": [
    "# plt.plot(train_scores)\n",
    "# plt.plot(valid_scores)\n",
    "\n",
    "plt.plot(train_dice_losses)\n",
    "plt.plot(valid_dice_losses)\n",
    "\n",
    "plt.legend(['train', 'valid'])\n",
    "plt.xlabel('epoch')\n",
    "plt.ylabel('iou')\n",
    "plt.grid()\n",
    "ax = plt.gca()\n",
    "ax.set_yscale('log')"
   ]
  },
  {
   "cell_type": "code",
   "execution_count": null,
   "id": "20a17016",
   "metadata": {},
   "outputs": [],
   "source": [
    "model_cpu = model.to('cpu')"
   ]
  },
  {
   "cell_type": "code",
   "execution_count": null,
   "id": "9f5c63d5",
   "metadata": {},
   "outputs": [],
   "source": [
    "vi = iter(valid_loader)\n"
   ]
  },
  {
   "cell_type": "code",
   "execution_count": null,
   "id": "ef8474f5",
   "metadata": {},
   "outputs": [],
   "source": [
    "img_batch, mask_batch = next(vi)\n"
   ]
  },
  {
   "cell_type": "code",
   "execution_count": null,
   "id": "07ad7193",
   "metadata": {
    "scrolled": false
   },
   "outputs": [],
   "source": [
    "img_batch, mask_batch = next(vi)\n",
    "\n",
    "with torch.no_grad():\n",
    "    # model_output = model(img_batch.to(DEVICE))\n",
    "    model_output = model_cpu(img_batch)\n",
    "\n",
    "for i in range(len(img_batch)):\n",
    "    plt.imshow(img_batch[i].numpy().transpose([1, 2, 0]))\n",
    "    plt.show()\n",
    "    print('ground through')\n",
    "    plt.imshow(mask_batch[i][1].numpy())\n",
    "    plt.show()\n",
    "    print('prediction')\n",
    "    plt.imshow(model_output[i][1])\n",
    "    plt.show()\n",
    "    print(\"=\"*30)\n"
   ]
  },
  {
   "cell_type": "code",
   "execution_count": null,
   "id": "68e55787",
   "metadata": {},
   "outputs": [],
   "source": []
  },
  {
   "cell_type": "code",
   "execution_count": null,
   "id": "eaee2135",
   "metadata": {},
   "outputs": [],
   "source": []
  },
  {
   "cell_type": "code",
   "execution_count": null,
   "id": "4c027d6a",
   "metadata": {},
   "outputs": [],
   "source": []
  },
  {
   "cell_type": "code",
   "execution_count": null,
   "id": "35aedcca",
   "metadata": {},
   "outputs": [],
   "source": []
  },
  {
   "cell_type": "code",
   "execution_count": null,
   "id": "fbcf4739",
   "metadata": {},
   "outputs": [],
   "source": []
  },
  {
   "cell_type": "code",
   "execution_count": null,
   "id": "aa3b08bb",
   "metadata": {},
   "outputs": [],
   "source": []
  },
  {
   "cell_type": "code",
   "execution_count": null,
   "id": "3711d492",
   "metadata": {},
   "outputs": [],
   "source": []
  },
  {
   "cell_type": "code",
   "execution_count": null,
   "id": "6cbc43e5",
   "metadata": {},
   "outputs": [],
   "source": []
  },
  {
   "cell_type": "code",
   "execution_count": null,
   "id": "8a912b44",
   "metadata": {},
   "outputs": [],
   "source": []
  },
  {
   "cell_type": "code",
   "execution_count": null,
   "id": "9b44bc67",
   "metadata": {},
   "outputs": [],
   "source": []
  },
  {
   "cell_type": "code",
   "execution_count": null,
   "id": "7eb641cf",
   "metadata": {},
   "outputs": [],
   "source": []
  },
  {
   "cell_type": "code",
   "execution_count": null,
   "id": "0abf7e84",
   "metadata": {},
   "outputs": [],
   "source": []
  },
  {
   "cell_type": "code",
   "execution_count": null,
   "id": "7fe9c5a4",
   "metadata": {},
   "outputs": [],
   "source": []
  },
  {
   "cell_type": "code",
   "execution_count": null,
   "id": "b4f17b64",
   "metadata": {},
   "outputs": [],
   "source": []
  },
  {
   "cell_type": "code",
   "execution_count": null,
   "id": "1e741d13",
   "metadata": {},
   "outputs": [],
   "source": []
  }
 ],
 "metadata": {
  "kernelspec": {
   "display_name": "Python 3 (ipykernel)",
   "language": "python",
   "name": "python3"
  },
  "language_info": {
   "codemirror_mode": {
    "name": "ipython",
    "version": 3
   },
   "file_extension": ".py",
   "mimetype": "text/x-python",
   "name": "python",
   "nbconvert_exporter": "python",
   "pygments_lexer": "ipython3",
   "version": "3.7.9"
  }
 },
 "nbformat": 4,
 "nbformat_minor": 5
}
